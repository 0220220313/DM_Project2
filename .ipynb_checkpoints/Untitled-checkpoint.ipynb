{
 "cells": [
  {
   "cell_type": "code",
   "execution_count": 1,
   "metadata": {},
   "outputs": [],
   "source": [
    "import pandas as pd\n",
    "import numpy as np\n",
    "import matplotlib.pyplot as plt\n",
    "import seaborn as sns\n",
    "from sklearn.tree import export_graphviz\n",
    "from sklearn.tree import DecisionTreeClassifier\n",
    "from sklearn.linear_model import LogisticRegressionCV"
   ]
  },
  {
   "cell_type": "code",
   "execution_count": 2,
   "metadata": {},
   "outputs": [],
   "source": [
    "card_attributes=['hp','atk','ap','def','apd','speed','rank']\n",
    "card_value=np.random.rand(10000,7)\n",
    "weight_value=[4000,1000,1000,600,600,700,2000,500,500,400,400,300]\n",
    "for i in range(6):\n",
    "    card_value[:,i]*=weight_value[i]\n",
    "    card_value[:,i]+=weight_value[i+6]\n",
    "card_value=np.rint(card_value)"
   ]
  },
  {
   "cell_type": "code",
   "execution_count": 3,
   "metadata": {},
   "outputs": [
    {
     "name": "stdout",
     "output_type": "stream",
     "text": [
      "[1387.4 1404.  1636.2 1353.2 1582.6 1958.2]\n",
      "[2781.8 3157.5 3646.2 2684.  3559.9 3712. ]\n"
     ]
    }
   ],
   "source": [
    "rank_value=[]\n",
    "rank_value=card_value[:,0]*0.2+ (card_value[:,1]+card_value[:,2])*0.4 + abs(card_value[:,1]-card_value[:,2])*0.2\n",
    "print(rank_value[0:6])\n",
    "\n",
    "rank_value=rank_value+(card_value[:,3]+card_value[:,4])*0.6+card_value[:,5]*1.2 + abs(card_value[:,3]-card_value[:,4])*0.3\n",
    "print(rank_value[0:6])"
   ]
  },
  {
   "cell_type": "code",
   "execution_count": 4,
   "metadata": {},
   "outputs": [
    {
     "name": "stdout",
     "output_type": "stream",
     "text": [
      "[3002.9, 3245.7, 3458.0, 3694.4]\n"
     ]
    }
   ],
   "source": [
    "Srank_value=sorted(rank_value)\n",
    "L=len(Srank_value)\n",
    "rule=[Srank_value[int(0.2*L)],Srank_value[int(0.4*L)],Srank_value[int(0.6*L)],Srank_value[int(L*0.8)]]\n",
    "#rule=[Srank_value[int(L*0.5)]]\n",
    "print(rule)"
   ]
  },
  {
   "cell_type": "code",
   "execution_count": 5,
   "metadata": {},
   "outputs": [],
   "source": [
    "for i in range (10000):\n",
    "    if rank_value[i]>=rule[3]:\n",
    "           card_value[i,6]=4\n",
    "    elif rank_value[i]>=rule[2]:\n",
    "        card_value[i,6]=3\n",
    "    elif rank_value[i]>=rule[1]:\n",
    "        card_value[i,6]=2\n",
    "    elif rank_value[i]>=rule[0]:\n",
    "        card_value[i,6]=1\n",
    "    else :\n",
    "        card_value[i,6]=0\n",
    "        "
   ]
  },
  {
   "cell_type": "code",
   "execution_count": 6,
   "metadata": {},
   "outputs": [],
   "source": [
    "data=pd.DataFrame(card_value,columns=card_attributes)"
   ]
  },
  {
   "cell_type": "code",
   "execution_count": 7,
   "metadata": {},
   "outputs": [],
   "source": [
    "%matplotlib inline\n",
    "from sklearn.model_selection import train_test_split"
   ]
  },
  {
   "cell_type": "code",
   "execution_count": 8,
   "metadata": {},
   "outputs": [],
   "source": [
    "X_train, X_test, y_train, y_test = train_test_split(\n",
    "    data[['hp','atk','ap','def','apd','speed']], data[['rank']], test_size=0.3, random_state=0) \n",
    "\n",
    "#'hp','atk','ap','def','apd','speed'"
   ]
  },
  {
   "cell_type": "code",
   "execution_count": 9,
   "metadata": {},
   "outputs": [],
   "source": [
    "tree = DecisionTreeClassifier(criterion = 'entropy', random_state=0)  #max_depth=3"
   ]
  },
  {
   "cell_type": "code",
   "execution_count": 10,
   "metadata": {},
   "outputs": [
    {
     "data": {
      "text/plain": [
       "DecisionTreeClassifier(class_weight=None, criterion='entropy', max_depth=None,\n",
       "            max_features=None, max_leaf_nodes=None,\n",
       "            min_impurity_decrease=0.0, min_impurity_split=None,\n",
       "            min_samples_leaf=1, min_samples_split=2,\n",
       "            min_weight_fraction_leaf=0.0, presort=False, random_state=0,\n",
       "            splitter='best')"
      ]
     },
     "execution_count": 10,
     "metadata": {},
     "output_type": "execute_result"
    }
   ],
   "source": [
    "tree.fit(X_train,y_train)"
   ]
  },
  {
   "cell_type": "code",
   "execution_count": 11,
   "metadata": {},
   "outputs": [
    {
     "name": "stdout",
     "output_type": "stream",
     "text": [
      "85.21428571428571 %\n"
     ]
    }
   ],
   "source": [
    "error = 0\n",
    "for i, v in enumerate(tree.predict(X_test)):\n",
    "    if v!= y_test['rank'].values[i]:\n",
    "        #print(i,v)\n",
    "        error+=1\n",
    "print(100-error*100/len(X_train),'%')"
   ]
  },
  {
   "cell_type": "code",
   "execution_count": 12,
   "metadata": {},
   "outputs": [
    {
     "name": "stdout",
     "output_type": "stream",
     "text": [
      "65.5 %\n"
     ]
    }
   ],
   "source": [
    "tree.score(X_test,y_test['rank'])\n",
    "error=0\n",
    "result=tree.predict(X_test)\n",
    "for i in range(len(y_test)):\n",
    "    if result[i]!=y_test['rank'].values[i]:\n",
    "        error+=1\n",
    "print(100-100*error/len(y_test),'%')"
   ]
  },
  {
   "cell_type": "code",
   "execution_count": 13,
   "metadata": {},
   "outputs": [],
   "source": [
    "export_graphviz(tree, out_file='tree.dot', feature_names=['hp','atk','ap','def','apd','speed'])\n",
    "#'hp','atk','ap','def','apd','speed'"
   ]
  },
  {
   "cell_type": "code",
   "execution_count": 14,
   "metadata": {},
   "outputs": [],
   "source": [
    "#random forest#"
   ]
  },
  {
   "cell_type": "code",
   "execution_count": 15,
   "metadata": {},
   "outputs": [],
   "source": [
    "from sklearn.ensemble import RandomForestClassifier"
   ]
  },
  {
   "cell_type": "code",
   "execution_count": 16,
   "metadata": {},
   "outputs": [],
   "source": [
    "forest = RandomForestClassifier(criterion='entropy', n_estimators=10,random_state=3,n_jobs=8)"
   ]
  },
  {
   "cell_type": "code",
   "execution_count": 17,
   "metadata": {},
   "outputs": [
    {
     "data": {
      "text/plain": [
       "RandomForestClassifier(bootstrap=True, class_weight=None, criterion='entropy',\n",
       "            max_depth=None, max_features='auto', max_leaf_nodes=None,\n",
       "            min_impurity_decrease=0.0, min_impurity_split=None,\n",
       "            min_samples_leaf=1, min_samples_split=2,\n",
       "            min_weight_fraction_leaf=0.0, n_estimators=10, n_jobs=8,\n",
       "            oob_score=False, random_state=3, verbose=0, warm_start=False)"
      ]
     },
     "execution_count": 17,
     "metadata": {},
     "output_type": "execute_result"
    }
   ],
   "source": [
    "forest.fit(X_train,y_train['rank'].values)"
   ]
  },
  {
   "cell_type": "code",
   "execution_count": 18,
   "metadata": {},
   "outputs": [
    {
     "name": "stdout",
     "output_type": "stream",
     "text": [
      "72.83333333333333 %\n"
     ]
    }
   ],
   "source": [
    "forest.score(X_test,y_test['rank'])\n",
    "error=0\n",
    "result=forest.predict(X_test)\n",
    "for i in range(len(y_test)):\n",
    "    if result[i]!=y_test['rank'].values[i]:\n",
    "        error+=1\n",
    "print(100-100*error/len(y_test),'%')"
   ]
  },
  {
   "cell_type": "code",
   "execution_count": 19,
   "metadata": {},
   "outputs": [],
   "source": [
    "# LogisticRegressionCV #"
   ]
  },
  {
   "cell_type": "code",
   "execution_count": 20,
   "metadata": {},
   "outputs": [
    {
     "name": "stderr",
     "output_type": "stream",
     "text": [
      "C:\\ProgramData\\Anaconda3\\lib\\site-packages\\sklearn\\utils\\validation.py:578: DataConversionWarning: A column-vector y was passed when a 1d array was expected. Please change the shape of y to (n_samples, ), for example using ravel().\n",
      "  y = column_or_1d(y, warn=True)\n"
     ]
    },
    {
     "name": "stdout",
     "output_type": "stream",
     "text": [
      "72.76666666666667 %\n"
     ]
    }
   ],
   "source": [
    "lr=LogisticRegressionCV()\n",
    "lr.fit(X_train,y_train)\n",
    "lr.score(X_test,y_test)\n",
    "\n",
    "error=0\n",
    "result=lr.predict(X_test)\n",
    "for i in range(len(y_test)):\n",
    "    if result[i]!=y_test['rank'].values[i]:\n",
    "        error+=1\n",
    "print(100-100*error/len(y_test),'%')"
   ]
  },
  {
   "cell_type": "code",
   "execution_count": 21,
   "metadata": {},
   "outputs": [],
   "source": [
    "# knn #"
   ]
  },
  {
   "cell_type": "code",
   "execution_count": 22,
   "metadata": {},
   "outputs": [],
   "source": [
    "from sklearn.neighbors import KNeighborsClassifier"
   ]
  },
  {
   "cell_type": "code",
   "execution_count": 23,
   "metadata": {},
   "outputs": [
    {
     "name": "stderr",
     "output_type": "stream",
     "text": [
      "C:\\ProgramData\\Anaconda3\\lib\\site-packages\\ipykernel_launcher.py:2: DataConversionWarning: A column-vector y was passed when a 1d array was expected. Please change the shape of y to (n_samples, ), for example using ravel().\n",
      "  \n"
     ]
    },
    {
     "data": {
      "text/plain": [
       "KNeighborsClassifier(algorithm='auto', leaf_size=30, metric='minkowski',\n",
       "           metric_params=None, n_jobs=1, n_neighbors=25, p=2,\n",
       "           weights='uniform')"
      ]
     },
     "execution_count": 23,
     "metadata": {},
     "output_type": "execute_result"
    }
   ],
   "source": [
    "Knn=KNeighborsClassifier(n_neighbors=25)\n",
    "Knn.fit(X_train,y_train)\n"
   ]
  },
  {
   "cell_type": "code",
   "execution_count": 24,
   "metadata": {},
   "outputs": [
    {
     "data": {
      "text/plain": [
       "0.693"
      ]
     },
     "execution_count": 24,
     "metadata": {},
     "output_type": "execute_result"
    }
   ],
   "source": [
    "Knn.score(X_test,y_test)"
   ]
  },
  {
   "cell_type": "code",
   "execution_count": 25,
   "metadata": {},
   "outputs": [
    {
     "name": "stdout",
     "output_type": "stream",
     "text": [
      "69.3 %\n"
     ]
    }
   ],
   "source": [
    "error=0\n",
    "result=Knn.predict(X_test)\n",
    "for i in range(len(y_test)):\n",
    "    if result[i]!=y_test['rank'].values[i]:\n",
    "        error+=1\n",
    "print(100-100*error/len(y_test),'%')"
   ]
  },
  {
   "cell_type": "code",
   "execution_count": 26,
   "metadata": {},
   "outputs": [],
   "source": [
    "#   ANN   #"
   ]
  },
  {
   "cell_type": "code",
   "execution_count": 27,
   "metadata": {},
   "outputs": [
    {
     "name": "stderr",
     "output_type": "stream",
     "text": [
      "C:\\ProgramData\\Anaconda3\\lib\\site-packages\\h5py\\__init__.py:36: FutureWarning: Conversion of the second argument of issubdtype from `float` to `np.floating` is deprecated. In future, it will be treated as `np.float64 == np.dtype(float).type`.\n",
      "  from ._conv import register_converters as _register_converters\n",
      "Using TensorFlow backend.\n"
     ]
    }
   ],
   "source": [
    "from keras.models import Sequential\n",
    "from keras.layers import Dense, Dropout, Activation, Flatten\n",
    "from keras.utils import np_utils  # 用來後續將 label 標籤轉為 one-hot-encoding  \n",
    "from matplotlib import pyplot as plt"
   ]
  },
  {
   "cell_type": "code",
   "execution_count": 28,
   "metadata": {},
   "outputs": [
    {
     "name": "stdout",
     "output_type": "stream",
     "text": [
      "_________________________________________________________________\n",
      "Layer (type)                 Output Shape              Param #   \n",
      "=================================================================\n",
      "dense_1 (Dense)              (None, 216)               1512      \n",
      "_________________________________________________________________\n",
      "dense_2 (Dense)              (None, 5)                 1085      \n",
      "=================================================================\n",
      "Total params: 2,597\n",
      "Trainable params: 2,597\n",
      "Non-trainable params: 0\n",
      "_________________________________________________________________\n"
     ]
    }
   ],
   "source": [
    "model = Sequential()\n",
    "model.add(Dense(units=36*6,input_dim=6,activation='relu'))\n",
    "#model.add(Dense(units=36*6,activation='relu'))\n",
    "#model.add(Dense(units=36*6,activation='relu'))\n",
    "#model.add(Dense(units=36*6,activation='relu'))\n",
    "#model.add(Dense(units=36*6,activation='relu'))\n",
    "model.add(Dense(units=5,activation='softmax'))\n",
    "model.summary()\n",
    "model.compile(loss='categorical_crossentropy', optimizer='adam', metrics=['accuracy']) "
   ]
  },
  {
   "cell_type": "code",
   "execution_count": 29,
   "metadata": {},
   "outputs": [
    {
     "name": "stdout",
     "output_type": "stream",
     "text": [
      "[[0. 0. 1. 0. 0.]\n",
      " [1. 0. 0. 0. 0.]\n",
      " [0. 0. 0. 0. 1.]\n",
      " ...\n",
      " [1. 0. 0. 0. 0.]\n",
      " [0. 0. 0. 0. 1.]\n",
      " [0. 0. 0. 1. 0.]]\n"
     ]
    }
   ],
   "source": [
    "Y_train = np_utils.to_categorical(y_train) \n",
    "Y_test = np_utils.to_categorical(y_test) \n",
    "print(Y_train)"
   ]
  },
  {
   "cell_type": "code",
   "execution_count": 30,
   "metadata": {},
   "outputs": [
    {
     "name": "stdout",
     "output_type": "stream",
     "text": [
      "Train on 4200 samples, validate on 2800 samples\n",
      "Epoch 1/10\n",
      "4200/4200 [==============================] - 0s 116us/step - loss: 12.9664 - acc: 0.1955 - val_loss: 12.9233 - val_acc: 0.1982\n",
      "Epoch 2/10\n",
      "4200/4200 [==============================] - 0s 49us/step - loss: 12.9405 - acc: 0.1971 - val_loss: 12.9233 - val_acc: 0.1982\n",
      "Epoch 3/10\n",
      "4200/4200 [==============================] - 0s 48us/step - loss: 12.9405 - acc: 0.1971 - val_loss: 12.9233 - val_acc: 0.1982\n",
      "Epoch 4/10\n",
      "4200/4200 [==============================] - 0s 50us/step - loss: 12.9405 - acc: 0.1971 - val_loss: 12.9233 - val_acc: 0.1982\n",
      "Epoch 5/10\n",
      "4200/4200 [==============================] - 0s 48us/step - loss: 12.9405 - acc: 0.1971 - val_loss: 12.9233 - val_acc: 0.1982\n",
      "Epoch 6/10\n",
      "4200/4200 [==============================] - 0s 49us/step - loss: 12.9405 - acc: 0.1971 - val_loss: 12.9233 - val_acc: 0.1982\n",
      "Epoch 7/10\n",
      "4200/4200 [==============================] - 0s 49us/step - loss: 12.9405 - acc: 0.1971 - val_loss: 12.9233 - val_acc: 0.1982\n",
      "Epoch 8/10\n",
      "4200/4200 [==============================] - 0s 49us/step - loss: 12.9405 - acc: 0.1971 - val_loss: 12.9233 - val_acc: 0.1982\n",
      "Epoch 9/10\n",
      "4200/4200 [==============================] - 0s 49us/step - loss: 12.9405 - acc: 0.1971 - val_loss: 12.9233 - val_acc: 0.1982\n",
      "Epoch 10/10\n",
      "4200/4200 [==============================] - 0s 49us/step - loss: 12.9405 - acc: 0.1971 - val_loss: 12.9233 - val_acc: 0.1982\n"
     ]
    }
   ],
   "source": [
    "ANN= model.fit(x=X_train, y=Y_train, validation_split=0.4, epochs=10)"
   ]
  },
  {
   "cell_type": "code",
   "execution_count": 31,
   "metadata": {},
   "outputs": [
    {
     "name": "stdout",
     "output_type": "stream",
     "text": [
      "3000/3000 [==============================] - 0s 16us/step\n",
      "[12.80314055633545, 0.20566666668653488]\n"
     ]
    }
   ],
   "source": [
    "score=model.evaluate(X_test,Y_test)\n",
    "print(score)"
   ]
  },
  {
   "cell_type": "code",
   "execution_count": 32,
   "metadata": {},
   "outputs": [
    {
     "name": "stdout",
     "output_type": "stream",
     "text": [
      "20.566666666666663 %\n"
     ]
    }
   ],
   "source": [
    "error=0\n",
    "result=model.predict(X_test)\n",
    "for i in range(len(Y_test)):\n",
    "    if all(result[i]==Y_test[i])!=1:\n",
    "        error+=1\n",
    "print(100-100*error/len(Y_test),'%')"
   ]
  },
  {
   "cell_type": "code",
   "execution_count": null,
   "metadata": {},
   "outputs": [],
   "source": []
  }
 ],
 "metadata": {
  "kernelspec": {
   "display_name": "Python 3",
   "language": "python",
   "name": "python3"
  },
  "language_info": {
   "codemirror_mode": {
    "name": "ipython",
    "version": 3
   },
   "file_extension": ".py",
   "mimetype": "text/x-python",
   "name": "python",
   "nbconvert_exporter": "python",
   "pygments_lexer": "ipython3",
   "version": "3.6.5"
  }
 },
 "nbformat": 4,
 "nbformat_minor": 2
}
